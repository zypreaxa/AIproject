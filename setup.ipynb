{
 "cells": [
  {
   "cell_type": "code",
   "execution_count": null,
   "metadata": {},
   "outputs": [
    {
     "name": "stdout",
     "output_type": "stream",
     "text": [
      "CUDA available: True\n",
      "CUDA version: 11.7\n",
      "GPU device: NVIDIA GeForce RTX 3060 Laptop GPU\n"
     ]
    }
   ],
   "source": [
    "import torch\n",
    "\n",
    "# Check if CUDA is available\n",
    "if torch.cuda.is_available():\n",
    "    # Create a tensor and move it to the GPU\n",
    "    x = torch.tensor([1.0, 2.0, 3.0])\n",
    "    x = x.cuda()\n",
    "\n",
    "    # Perform a simple operation on the GPU\n",
    "    y = x * 2\n",
    "\n",
    "    # Move the result back to the CPU and print it\n",
    "    y = y.cpu()\n",
    "    print(\"CUDA is available and working properly!\")\n",
    "    print(\"Result of the operation on GPU:\", y)\n",
    "else:\n",
    "    print(\"CUDA is not available on this system.\")"
   ]
  }
 ],
 "metadata": {
  "kernelspec": {
   "display_name": "venv",
   "language": "python",
   "name": "python3"
  },
  "language_info": {
   "codemirror_mode": {
    "name": "ipython",
    "version": 3
   },
   "file_extension": ".py",
   "mimetype": "text/x-python",
   "name": "python",
   "nbconvert_exporter": "python",
   "pygments_lexer": "ipython3",
   "version": "3.10.0"
  }
 },
 "nbformat": 4,
 "nbformat_minor": 2
}
